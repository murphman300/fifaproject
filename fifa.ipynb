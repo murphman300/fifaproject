{
 "cells": [
  {
   "cell_type": "code",
   "execution_count": 129,
   "metadata": {
    "pycharm": {
     "name": "#%%\n"
    }
   },
   "outputs": [],
   "source": [
    "import numpy as np\n",
    "import pandas as pd\n",
    "from matplotlib.pyplot import hist\n",
    "%matplotlib inline"
   ]
  },
  {
   "cell_type": "code",
   "execution_count": 130,
   "metadata": {},
   "outputs": [
    {
     "name": "stdout",
     "output_type": "stream",
     "text": [
      "             date      home_team   away_team  home_score  away_score  \\\n",
      "0      1872-11-30       Scotland     England           0           0   \n",
      "1      1873-03-08        England    Scotland           4           2   \n",
      "2      1874-03-07       Scotland     England           2           1   \n",
      "3      1875-03-06        England    Scotland           2           2   \n",
      "4      1876-03-04       Scotland     England           3           0   \n",
      "...           ...            ...         ...         ...         ...   \n",
      "41581  2020-01-10       Barbados      Canada           1           4   \n",
      "41582  2020-01-12         Kosovo      Sweden           0           1   \n",
      "41583  2020-01-15         Canada     Iceland           0           1   \n",
      "41584  2020-01-19    El Salvador     Iceland           0           1   \n",
      "41585  2020-02-01  United States  Costa Rica           1           0   \n",
      "\n",
      "      tournament     city        country  neutral  \n",
      "0       Friendly  Glasgow       Scotland    False  \n",
      "1       Friendly   London        England    False  \n",
      "2       Friendly  Glasgow       Scotland    False  \n",
      "3       Friendly   London        England    False  \n",
      "4       Friendly  Glasgow       Scotland    False  \n",
      "...          ...      ...            ...      ...  \n",
      "41581   Friendly   Irvine  United States     True  \n",
      "41582   Friendly     Doha          Qatar     True  \n",
      "41583   Friendly   Irvine  United States     True  \n",
      "41584   Friendly   Carson  United States     True  \n",
      "41585   Friendly   Carson  United States    False  \n",
      "\n",
      "[41586 rows x 9 columns]\n"
     ]
    }
   ],
   "source": [
    "tb = pd.read_csv('data/results.csv')\n",
    "print(tb)"
   ]
  },
  {
   "cell_type": "code",
   "execution_count": 131,
   "metadata": {},
   "outputs": [],
   "source": [
    "average_home_score = tb['home_score'].mean()\n",
    "average_away_score = tb['away_score'].mean()\n",
    "\n",
    "tb['total_goals'] = tb['home_score'] + tb['away_score']\n",
    "tb['home_win'] = np.where(tb['neutral'] == False, tb['home_score'] > tb['away_score'], '')\n",
    "total_home_wins_perc = (tb['home_win'].astype('str').value_counts()['True'] / tb.count()) * 100\n"
   ]
  },
  {
   "cell_type": "code",
   "execution_count": 132,
   "metadata": {
    "pycharm": {
     "name": "#%%\n"
    }
   },
   "outputs": [
    {
     "ename": "ValueError",
     "evalue": "arrays must all be same length",
     "output_type": "error",
     "traceback": [
      "\u001B[0;31m---------------------------------------------------------------------------\u001B[0m",
      "\u001B[0;31mValueError\u001B[0m                                Traceback (most recent call last)",
      "\u001B[0;32m<ipython-input-132-e151999c2c1c>\u001B[0m in \u001B[0;36m<module>\u001B[0;34m\u001B[0m\n\u001B[1;32m     78\u001B[0m }\n\u001B[1;32m     79\u001B[0m \u001B[0;34m\u001B[0m\u001B[0m\n\u001B[0;32m---> 80\u001B[0;31m \u001B[0mcountries\u001B[0m \u001B[0;34m=\u001B[0m \u001B[0mpd\u001B[0m\u001B[0;34m.\u001B[0m\u001B[0mDataFrame\u001B[0m\u001B[0;34m(\u001B[0m\u001B[0mentries\u001B[0m\u001B[0;34m)\u001B[0m\u001B[0;34m\u001B[0m\u001B[0;34m\u001B[0m\u001B[0m\n\u001B[0m\u001B[1;32m     81\u001B[0m \u001B[0mprint\u001B[0m\u001B[0;34m(\u001B[0m\u001B[0mcountries\u001B[0m\u001B[0;34m)\u001B[0m\u001B[0;34m\u001B[0m\u001B[0;34m\u001B[0m\u001B[0m\n\u001B[1;32m     82\u001B[0m \u001B[0;34m\u001B[0m\u001B[0m\n",
      "\u001B[0;32m/Library/Frameworks/Python.framework/Versions/3.7/lib/python3.7/site-packages/pandas/core/frame.py\u001B[0m in \u001B[0;36m__init__\u001B[0;34m(self, data, index, columns, dtype, copy)\u001B[0m\n\u001B[1;32m    433\u001B[0m             )\n\u001B[1;32m    434\u001B[0m         \u001B[0;32melif\u001B[0m \u001B[0misinstance\u001B[0m\u001B[0;34m(\u001B[0m\u001B[0mdata\u001B[0m\u001B[0;34m,\u001B[0m \u001B[0mdict\u001B[0m\u001B[0;34m)\u001B[0m\u001B[0;34m:\u001B[0m\u001B[0;34m\u001B[0m\u001B[0;34m\u001B[0m\u001B[0m\n\u001B[0;32m--> 435\u001B[0;31m             \u001B[0mmgr\u001B[0m \u001B[0;34m=\u001B[0m \u001B[0minit_dict\u001B[0m\u001B[0;34m(\u001B[0m\u001B[0mdata\u001B[0m\u001B[0;34m,\u001B[0m \u001B[0mindex\u001B[0m\u001B[0;34m,\u001B[0m \u001B[0mcolumns\u001B[0m\u001B[0;34m,\u001B[0m \u001B[0mdtype\u001B[0m\u001B[0;34m=\u001B[0m\u001B[0mdtype\u001B[0m\u001B[0;34m)\u001B[0m\u001B[0;34m\u001B[0m\u001B[0;34m\u001B[0m\u001B[0m\n\u001B[0m\u001B[1;32m    436\u001B[0m         \u001B[0;32melif\u001B[0m \u001B[0misinstance\u001B[0m\u001B[0;34m(\u001B[0m\u001B[0mdata\u001B[0m\u001B[0;34m,\u001B[0m \u001B[0mma\u001B[0m\u001B[0;34m.\u001B[0m\u001B[0mMaskedArray\u001B[0m\u001B[0;34m)\u001B[0m\u001B[0;34m:\u001B[0m\u001B[0;34m\u001B[0m\u001B[0;34m\u001B[0m\u001B[0m\n\u001B[1;32m    437\u001B[0m             \u001B[0;32mimport\u001B[0m \u001B[0mnumpy\u001B[0m\u001B[0;34m.\u001B[0m\u001B[0mma\u001B[0m\u001B[0;34m.\u001B[0m\u001B[0mmrecords\u001B[0m \u001B[0;32mas\u001B[0m \u001B[0mmrecords\u001B[0m\u001B[0;34m\u001B[0m\u001B[0;34m\u001B[0m\u001B[0m\n",
      "\u001B[0;32m/Library/Frameworks/Python.framework/Versions/3.7/lib/python3.7/site-packages/pandas/core/internals/construction.py\u001B[0m in \u001B[0;36minit_dict\u001B[0;34m(data, index, columns, dtype)\u001B[0m\n\u001B[1;32m    252\u001B[0m             \u001B[0marr\u001B[0m \u001B[0;32mif\u001B[0m \u001B[0;32mnot\u001B[0m \u001B[0mis_datetime64tz_dtype\u001B[0m\u001B[0;34m(\u001B[0m\u001B[0marr\u001B[0m\u001B[0;34m)\u001B[0m \u001B[0;32melse\u001B[0m \u001B[0marr\u001B[0m\u001B[0;34m.\u001B[0m\u001B[0mcopy\u001B[0m\u001B[0;34m(\u001B[0m\u001B[0;34m)\u001B[0m \u001B[0;32mfor\u001B[0m \u001B[0marr\u001B[0m \u001B[0;32min\u001B[0m \u001B[0marrays\u001B[0m\u001B[0;34m\u001B[0m\u001B[0;34m\u001B[0m\u001B[0m\n\u001B[1;32m    253\u001B[0m         ]\n\u001B[0;32m--> 254\u001B[0;31m     \u001B[0;32mreturn\u001B[0m \u001B[0marrays_to_mgr\u001B[0m\u001B[0;34m(\u001B[0m\u001B[0marrays\u001B[0m\u001B[0;34m,\u001B[0m \u001B[0mdata_names\u001B[0m\u001B[0;34m,\u001B[0m \u001B[0mindex\u001B[0m\u001B[0;34m,\u001B[0m \u001B[0mcolumns\u001B[0m\u001B[0;34m,\u001B[0m \u001B[0mdtype\u001B[0m\u001B[0;34m=\u001B[0m\u001B[0mdtype\u001B[0m\u001B[0;34m)\u001B[0m\u001B[0;34m\u001B[0m\u001B[0;34m\u001B[0m\u001B[0m\n\u001B[0m\u001B[1;32m    255\u001B[0m \u001B[0;34m\u001B[0m\u001B[0m\n\u001B[1;32m    256\u001B[0m \u001B[0;34m\u001B[0m\u001B[0m\n",
      "\u001B[0;32m/Library/Frameworks/Python.framework/Versions/3.7/lib/python3.7/site-packages/pandas/core/internals/construction.py\u001B[0m in \u001B[0;36marrays_to_mgr\u001B[0;34m(arrays, arr_names, index, columns, dtype)\u001B[0m\n\u001B[1;32m     62\u001B[0m     \u001B[0;31m# figure out the index, if necessary\u001B[0m\u001B[0;34m\u001B[0m\u001B[0;34m\u001B[0m\u001B[0;34m\u001B[0m\u001B[0m\n\u001B[1;32m     63\u001B[0m     \u001B[0;32mif\u001B[0m \u001B[0mindex\u001B[0m \u001B[0;32mis\u001B[0m \u001B[0;32mNone\u001B[0m\u001B[0;34m:\u001B[0m\u001B[0;34m\u001B[0m\u001B[0;34m\u001B[0m\u001B[0m\n\u001B[0;32m---> 64\u001B[0;31m         \u001B[0mindex\u001B[0m \u001B[0;34m=\u001B[0m \u001B[0mextract_index\u001B[0m\u001B[0;34m(\u001B[0m\u001B[0marrays\u001B[0m\u001B[0;34m)\u001B[0m\u001B[0;34m\u001B[0m\u001B[0;34m\u001B[0m\u001B[0m\n\u001B[0m\u001B[1;32m     65\u001B[0m     \u001B[0;32melse\u001B[0m\u001B[0;34m:\u001B[0m\u001B[0;34m\u001B[0m\u001B[0;34m\u001B[0m\u001B[0m\n\u001B[1;32m     66\u001B[0m         \u001B[0mindex\u001B[0m \u001B[0;34m=\u001B[0m \u001B[0mensure_index\u001B[0m\u001B[0;34m(\u001B[0m\u001B[0mindex\u001B[0m\u001B[0;34m)\u001B[0m\u001B[0;34m\u001B[0m\u001B[0;34m\u001B[0m\u001B[0m\n",
      "\u001B[0;32m/Library/Frameworks/Python.framework/Versions/3.7/lib/python3.7/site-packages/pandas/core/internals/construction.py\u001B[0m in \u001B[0;36mextract_index\u001B[0;34m(data)\u001B[0m\n\u001B[1;32m    363\u001B[0m             \u001B[0mlengths\u001B[0m \u001B[0;34m=\u001B[0m \u001B[0mlist\u001B[0m\u001B[0;34m(\u001B[0m\u001B[0mset\u001B[0m\u001B[0;34m(\u001B[0m\u001B[0mraw_lengths\u001B[0m\u001B[0;34m)\u001B[0m\u001B[0;34m)\u001B[0m\u001B[0;34m\u001B[0m\u001B[0;34m\u001B[0m\u001B[0m\n\u001B[1;32m    364\u001B[0m             \u001B[0;32mif\u001B[0m \u001B[0mlen\u001B[0m\u001B[0;34m(\u001B[0m\u001B[0mlengths\u001B[0m\u001B[0;34m)\u001B[0m \u001B[0;34m>\u001B[0m \u001B[0;36m1\u001B[0m\u001B[0;34m:\u001B[0m\u001B[0;34m\u001B[0m\u001B[0;34m\u001B[0m\u001B[0m\n\u001B[0;32m--> 365\u001B[0;31m                 \u001B[0;32mraise\u001B[0m \u001B[0mValueError\u001B[0m\u001B[0;34m(\u001B[0m\u001B[0;34m\"arrays must all be same length\"\u001B[0m\u001B[0;34m)\u001B[0m\u001B[0;34m\u001B[0m\u001B[0;34m\u001B[0m\u001B[0m\n\u001B[0m\u001B[1;32m    366\u001B[0m \u001B[0;34m\u001B[0m\u001B[0m\n\u001B[1;32m    367\u001B[0m             \u001B[0;32mif\u001B[0m \u001B[0mhave_dicts\u001B[0m\u001B[0;34m:\u001B[0m\u001B[0;34m\u001B[0m\u001B[0;34m\u001B[0m\u001B[0m\n",
      "\u001B[0;31mValueError\u001B[0m: arrays must all be same length"
     ]
    },
    {
     "data": {
      "text/plain": "<Figure size 432x288 with 1 Axes>",
      "image/png": "[encoded data removed]"
     },
     "metadata": {
      "needs_background": "light"
     },
     "output_type": "display_data"
    }
   ],
   "source": [
    "#making the histogram\n",
    "tb.plot(x='date', y='total_goals', kind='hist')\n",
    "\n",
    "#create table of countries\n",
    "countries_colums = ['country']\n",
    "countries_all = np.unique(tb[['home_team', 'away_team']].values)\n",
    "\n",
    "home_goals = []\n",
    "away_goals = []\n",
    "total_goals = []\n",
    "no_home_games = []\n",
    "no_away_games = []\n",
    "win_games = []\n",
    "loss_games = []\n",
    "total_games = []\n",
    "win_percentage = []\n",
    "loss_percentage = []\n",
    "win_percentage_as_home = []\n",
    "win_percentage_as_away = []\n",
    "loss_percentage_as_home = []\n",
    "loss_percentage_as_away = []\n",
    "# countries = pd.DataFrame(countries_all, columns = countries_colums)\n",
    "\n",
    "for country in countries_all:\n",
    "    is_country_as_home = tb['home_team'] == country\n",
    "    is_country_as_away = tb['away_team'] == country\n",
    "    country_rows_as_home = tb[is_country_as_home]\n",
    "    country_rows_as_away = tb[is_country_as_away]\n",
    "    country_rows_win_as_home = country_rows_as_home[country_rows_as_home['home_score'] > country_rows_as_home['away_score']]\n",
    "    country_rows_win_as_away = country_rows_as_away[country_rows_as_away['away_score'] > country_rows_as_away['home_score']]\n",
    "    total_goals_as_home = country_rows_as_home['home_score'].sum()\n",
    "    total_goals_as_away = country_rows_as_away['away_score'].sum()\n",
    "    total_games_as_home = len(country_rows_as_home)\n",
    "    total_games_as_away = len(country_rows_as_away)\n",
    "    total_games_as = total_games_as_away + total_games_as_home\n",
    "\n",
    "    total_wins_as_home = len(country_rows_win_as_home)\n",
    "    total_wins_as_away = len(country_rows_win_as_away)\n",
    "    total_wins = total_wins_as_home + total_wins_as_away\n",
    "    total_losses = total_games_as - total_wins\n",
    "    win_perc = total_wins / total_games_as\n",
    "    loss_perc = total_losses / total_games_as\n",
    "\n",
    "    home_goals.append(total_goals_as_home)\n",
    "    away_goals.append(total_goals_as_away)\n",
    "    total_goals.append(total_goals_as_home + total_goals_as_away)\n",
    "    no_home_games.append(total_games_as_home)\n",
    "    no_away_games.append(total_games_as_away)\n",
    "    win_games.append(total_wins)\n",
    "    loss_games.append(total_losses)\n",
    "    total_games.append(total_games_as)\n",
    "    win_percentage.append(win_perc)\n",
    "    loss_percentage.append(loss_perc)\n",
    "\n",
    "    # win_percentage\n",
    "    # loss_percentage\n",
    "\n",
    "# iterate over the countries_all array, for each of these, do a filter for rows\n",
    "# where the country is either home or away,\n",
    "# file the arrays above for the countries\n",
    "\n",
    "entries = {\n",
    "    'country': countries_all,\n",
    "    'home_goals': home_goals,\n",
    "    'away_goals': away_goals,\n",
    "    'total_goals': total_goals,\n",
    "    'no_home_games': no_home_games,\n",
    "    'no_away_games': no_away_games,\n",
    "    'win_games': win_games,\n",
    "    'loss_games': loss_games,\n",
    "    'total_games': total_games,\n",
    "    'win_percentage': win_percentage,\n",
    "    'loss_percentage': loss_percentage,\n",
    "    # 'win_percentage': win_percentage,\n",
    "    # 'win_percentage_as_home': win_percentage_as_home,\n",
    "    # 'win_percentage_as_away': win_percentage_as_away,\n",
    "    # 'loss_percentage': loss_percentage,\n",
    "    # 'loss_percentage_as_home': loss_percentage_as_home,\n",
    "    # 'loss_percentage_as_away': loss_percentage_as_away\n",
    "}\n",
    "\n",
    "countries = pd.DataFrame(entries)\n",
    "print(countries)\n",
    "\n"
   ]
  }
 ],
 "metadata": {
  "kernelspec": {
   "display_name": "Python 3",
   "language": "python",
   "name": "python3"
  },
  "language_info": {
   "codemirror_mode": {
    "name": "ipython",
    "version": 3
   },
   "file_extension": ".py",
   "mimetype": "text/x-python",
   "name": "python",
   "nbconvert_exporter": "python",
   "pygments_lexer": "ipython3",
   "version": "3.7.6"
  }
 },
 "nbformat": 4,
 "nbformat_minor": 4
}