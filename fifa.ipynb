{
 "cells": [
  {
   "cell_type": "code",
   "execution_count": 338,
   "metadata": {
    "pycharm": {
     "name": "#%%\n"
    }
   },
   "outputs": [],
   "source": [
    "import numpy as np\n",
    "import pandas as pd\n",
    "from matplotlib.pyplot import hist\n",
    "%matplotlib inline\n",
    "\n",
    "def get_countries_stats(*as_of_date):\n",
    "\n",
    "    countries_all = np.unique(tb[['home_team', 'away_team']].values)\n",
    "\n",
    "    home_goals = []\n",
    "    away_goals = []\n",
    "    total_goals = []\n",
    "    no_home_games = []\n",
    "    no_away_games = []\n",
    "    win_games = []\n",
    "    win_games_away = []\n",
    "    win_games_home = []\n",
    "    loss_games = []\n",
    "    loss_games_away = []\n",
    "    loss_games_home = []\n",
    "    draws_games = []\n",
    "    draws_games_away = []\n",
    "    draws_games_home = []\n",
    "    total_games = []\n",
    "    win_percentage = []\n",
    "    loss_percentage = []\n",
    "    draw_percentage = []\n",
    "    win_percentage_as_home = []\n",
    "    win_percentage_as_away = []\n",
    "    loss_percentage_as_home = []\n",
    "    loss_percentage_as_away = []\n",
    "    draw_percentage_as_home = []\n",
    "    draw_percentage_as_away = []\n",
    "\n",
    "    as_of_is_specified = False\n",
    "    if len(as_of_date) > 0 :\n",
    "        as_of_is_specified = True\n",
    "\n",
    "    for country in countries_all:\n",
    "        is_country_as_home = None\n",
    "        is_country_as_away = None\n",
    "        country_rows_as_home = None\n",
    "        country_rows_as_away = None\n",
    "        country_rows_win_as_home = None\n",
    "        country_rows_win_as_away = None\n",
    "        country_rows_draws_as_home = None\n",
    "        country_rows_draws_as_away = None\n",
    "        country_rows_draw = None\n",
    "        country_rows = None\n",
    "\n",
    "        if as_of_is_specified:\n",
    "            country_rows = tb[(tb['date'] > as_of_date[0]) & ((tb['home_team'] == country) | (tb['away_team'] == country))]\n",
    "            is_country_as_home = (country_rows['home_team'] == country)\n",
    "            is_country_as_away = (country_rows['away_team'] == country)\n",
    "            country_rows_as_home = country_rows[is_country_as_home]\n",
    "            country_rows_as_away = country_rows[is_country_as_away]\n",
    "        else:\n",
    "            country_rows = tb[((tb['home_team'] == country) | (tb['away_team'] == country))]\n",
    "            is_country_as_home = country_rows['home_team'] == country\n",
    "            is_country_as_away = country_rows['away_team'] == country\n",
    "            country_rows_as_home = country_rows[is_country_as_home]\n",
    "            country_rows_as_away = country_rows[is_country_as_away]\n",
    "\n",
    "\n",
    "\n",
    "        country_rows_win_as_home = country_rows_as_home[country_rows_as_home['home_score'] > country_rows_as_home['away_score']]\n",
    "        country_rows_losses_as_home = country_rows_as_home[country_rows_as_home['home_score'] < country_rows_as_home['away_score']]\n",
    "        country_rows_draws_as_home = country_rows_as_home[country_rows_as_home['home_score'] == country_rows_as_home['away_score']]\n",
    "        country_rows_win_as_away = country_rows_as_away[country_rows_as_away['home_score'] > country_rows_as_away['away_score']]\n",
    "        country_rows_losses_as_away = country_rows_as_away[country_rows_as_away['home_score'] < country_rows_as_away['away_score']]\n",
    "        country_rows_draws_as_away = country_rows_as_away[country_rows_as_away['home_score'] == country_rows_as_away['away_score']]\n",
    "\n",
    "\n",
    "        total_games_as = len(country_rows)\n",
    "        total_wins_as_home = len(country_rows_win_as_home)\n",
    "        total_wins_as_away = len(country_rows_win_as_away)\n",
    "        total_losses_as_home = len(country_rows_losses_as_home)\n",
    "        total_losses_as_away = len(country_rows_losses_as_away)\n",
    "        total_draws_as_home = len(country_rows_draws_as_home)\n",
    "        total_draws_as_away = len(country_rows_draws_as_away)\n",
    "        total_wins = total_wins_as_home + total_wins_as_away\n",
    "        total_losses = total_losses_as_home + total_losses_as_away\n",
    "        total_draws = total_draws_as_home + total_draws_as_away\n",
    "\n",
    "        total_games_as_home = len(country_rows_as_home)\n",
    "        total_games_as_away = len(country_rows_as_away)\n",
    "        total_goals_as_home = country_rows_as_home['home_score'].sum()\n",
    "        total_goals_as_away = country_rows_as_away['away_score'].sum()\n",
    "\n",
    "        win_perc = total_wins / total_games_as if total_games_as > 0 else 0\n",
    "        loss_perc = total_losses / total_games_as if total_games_as > 0 else 0\n",
    "        draw_perc = total_draws / total_games_as if total_games_as > 0 else 0\n",
    "\n",
    "        # if country == 'Canada':\n",
    "        #     print(total_games_as, total_wins + total_losses + total_draws, total_wins, total_losses, total_draws)\n",
    "        #     print(country_rows)\n",
    "\n",
    "        home_goals.append(total_goals_as_home)\n",
    "        away_goals.append(total_goals_as_away)\n",
    "        total_goals.append(total_goals_as_home + total_goals_as_away)\n",
    "        no_home_games.append(total_games_as_home)\n",
    "        no_away_games.append(total_games_as_away)\n",
    "        win_games.append(total_wins)\n",
    "        win_games_away.append(total_wins_as_away)\n",
    "        win_games_home.append(total_wins_as_home)\n",
    "        loss_games.append(total_losses)\n",
    "        loss_games_away.append(total_losses_as_away)\n",
    "        loss_games_home.append(total_losses_as_home)\n",
    "        draws_games.append(total_draws)\n",
    "        draws_games_away.append(total_draws_as_away)\n",
    "        draws_games_home.append(total_draws_as_home)\n",
    "        total_games.append(total_games_as)\n",
    "        win_percentage.append(win_perc)\n",
    "        loss_percentage.append(loss_perc)\n",
    "        draw_percentage.append(draw_perc)\n",
    "        win_percentage_as_home.append((total_wins_as_home / total_games_as_home) if total_games_as_home > 0 else 0)\n",
    "        win_percentage_as_away.append(total_wins_as_away / total_games_as_away if total_games_as_away > 0 else 0)\n",
    "        loss_percentage_as_home.append(total_losses_as_home / total_games_as_home if total_games_as_home > 0 else 0)\n",
    "        loss_percentage_as_away.append(total_losses_as_away / total_games_as_away if total_games_as_away > 0 else 0)\n",
    "        draw_percentage_as_home.append(total_draws_as_home / total_games_as_home if total_games_as_home > 0 else 0)\n",
    "        draw_percentage_as_away.append(total_draws_as_away / total_games_as_away if total_games_as_away > 0 else 0)\n",
    "\n",
    "    entries = {\n",
    "        'country': countries_all,\n",
    "        'wins': win_games,\n",
    "        'losses': loss_games,\n",
    "        'draws': draws_games,\n",
    "        'total_games': total_games,\n",
    "        'home_goals': home_goals,\n",
    "        'away_goals': away_goals,\n",
    "        'total_goals': total_goals,\n",
    "        'home_games': no_home_games,\n",
    "        'away_games': no_away_games,\n",
    "        'wins_as_away': win_games_away,\n",
    "        'wins_as_home': win_games_home,\n",
    "        'losses_as_away': loss_games_away,\n",
    "        'losses_as_home': loss_games_home,\n",
    "        'draws_as_away' : draws_games_away,\n",
    "        'draws_as_home': draws_games_home,\n",
    "        'win_percentage': win_percentage,\n",
    "        'loss_percentage': loss_percentage,\n",
    "        'draw_percentage': draw_percentage,\n",
    "        'win_percentage_as_home': win_percentage_as_home,\n",
    "        'win_percentage_as_away': win_percentage_as_away,\n",
    "        'loss_percentage_as_home': loss_percentage_as_home,\n",
    "        'loss_percentage_as_away': loss_percentage_as_away,\n",
    "        'draw_percentage_as_home': draw_percentage_as_home,\n",
    "        'draw_percentage_as_away': draw_percentage_as_away\n",
    "    }\n",
    "\n",
    "    return pd.DataFrame(entries)\n",
    "\n",
    "def find_country_with_most_goals_since_2010():\n",
    "    country_stats_asof_2010 = get_countries_stats('2010-01-01')\n",
    "    return country_stats_asof_2010[country_stats_asof_2010['total_goals'] == country_stats_asof_2010.max()['total_goals']]['country']\n",
    "\n",
    "tb = pd.read_csv('data/results.csv')\n",
    "#setting up values for our new column\n",
    "tb['total_goals'] = tb['home_score'] + tb['away_score']\n",
    "tb['home_win'] = np.where(tb['neutral'] == False, tb['home_score'] > tb['away_score'], '')"
   ]
  },
  {
   "cell_type": "code",
   "execution_count": 339,
   "outputs": [
    {
     "name": "stdout",
     "output_type": "stream",
     "text": [
      "The average number of goals for the home team is 1.745755783196268 goals\n"
     ]
    }
   ],
   "source": [
    "#average goals for home team\n",
    "average_home_score = tb['home_score'].mean()\n",
    "print('The average number of goals for the home team is %s goals' % average_home_score)"
   ],
   "metadata": {
    "collapsed": false,
    "pycharm": {
     "name": "#%%\n"
    }
   }
  },
  {
   "cell_type": "code",
   "execution_count": 340,
   "outputs": [
    {
     "name": "stdout",
     "output_type": "stream",
     "text": [
      "The average number of goals for the away team is 1.187587168758717 goals\n"
     ]
    }
   ],
   "source": [
    "#average goals for away team\n",
    "average_away_score = tb['away_score'].mean()\n",
    "print('The average number of goals for the away team is %s goals' % average_away_score)"
   ],
   "metadata": {
    "collapsed": false,
    "pycharm": {
     "name": "#%%\n"
    }
   }
  },
  {
   "cell_type": "code",
   "execution_count": 341,
   "outputs": [
    {
     "data": {
      "text/plain": "<matplotlib.axes._subplots.AxesSubplot at 0x2a8e4a88e88>"
     },
     "execution_count": 341,
     "metadata": {},
     "output_type": "execute_result"
    },
    {
     "data": {
      "text/plain": "<Figure size 432x288 with 1 Axes>",
      "image/png": "[encoded data removed]"
     },
     "metadata": {
      "needs_background": "light"
     },
     "output_type": "display_data"
    }
   ],
   "source": [
    "#making the histogram\n",
    "tb.plot(x='date', y='total_goals', kind='hist')"
   ],
   "metadata": {
    "collapsed": false,
    "pycharm": {
     "name": "#%%\n"
    }
   }
  },
  {
   "cell_type": "code",
   "execution_count": 342,
   "outputs": [
    {
     "name": "stdout",
     "output_type": "stream",
     "text": [
      "The home team has a 38.01 percent chance of winning a game\n"
     ]
    }
   ],
   "source": [
    "#home team's win percentage\n",
    "# total_home_wins_perc = (tb['home_win'].astype('str').value_counts()['True'] / tb.count()) * 100\n",
    "total_home_wins_perc = (len(tb[tb['home_win'] == 'True']) / len(tb)) * 100\n",
    "print('The home team has a %s percent chance of winning a game' % round(total_home_wins_perc, 2))"
   ],
   "metadata": {
    "collapsed": false,
    "pycharm": {
     "name": "#%%\n"
    }
   }
  },
  {
   "cell_type": "code",
   "execution_count": 343,
   "outputs": [
    {
     "name": "stdout",
     "output_type": "stream",
     "text": [
      "The FIFA country with the most goals since 2010 is 104    Germany\n",
      "Name: country, dtype: object\n"
     ]
    }
   ],
   "source": [
    "# country with most goals since 2010\n",
    "country_with_most_goals_asof_2010 = find_country_with_most_goals_since_2010()\n",
    "print('The FIFA country with the most goals since 2010 is %s' % country_with_most_goals_asof_2010)\n"
   ],
   "metadata": {
    "collapsed": false,
    "pycharm": {
     "name": "#%%\n"
    }
   }
  }
 ],
 "metadata": {
  "kernelspec": {
   "display_name": "Python 3",
   "language": "python",
   "name": "python3"
  },
  "language_info": {
   "codemirror_mode": {
    "name": "ipython",
    "version": 3
   },
   "file_extension": ".py",
   "mimetype": "text/x-python",
   "name": "python",
   "nbconvert_exporter": "python",
   "pygments_lexer": "ipython3",
   "version": "3.7.6"
  }
 },
 "nbformat": 4,
 "nbformat_minor": 4
}